{
 "cells": [
  {
   "cell_type": "markdown",
   "metadata": {},
   "source": [
    "# DATA SCIENCE - BWF - SHERAZ BIN TAHIR"
   ]
  },
  {
   "cell_type": "markdown",
   "metadata": {},
   "source": [
    "# TASK 6 (WEEK 3) \n",
    "\n",
    "Modular Programming Approach in python\n",
    "- Classes \n",
    "- Inheritance\n",
    "- Encapsulation"
   ]
  },
  {
   "cell_type": "markdown",
   "metadata": {},
   "source": [
    "# 1 - CLASS\n",
    "Classes are fundameental concept in Python that enable Object-Oriented Programming. They act as blueprints for creating objects.\n",
    "\n",
    "To create a class in Python, We use the class keyword followed by the class name. Inside the class, we define attributes and methods.\n",
    "\n",
    "__ init __() Method is also a part of class. It is a special method python runs automatically whenever we create a new instance.\n",
    "In this method we alos have self peremeter. it is required in the method definition, and it must come first before the other parameters."
   ]
  },
  {
   "cell_type": "code",
   "execution_count": 3,
   "metadata": {},
   "outputs": [
    {
     "name": "stdout",
     "output_type": "stream",
     "text": [
      "Area 72\n",
      "Perimrter 144\n"
     ]
    }
   ],
   "source": [
    "# EXAMPLE - Area & perimeter of Rectangle \n",
    "\n",
    "class Rectangle():\n",
    "    def __init__(self, length, width):\n",
    "        self.length = length\n",
    "        self.width = width\n",
    "        \n",
    "    def area(self):\n",
    "        tarea = self.length * self.width\n",
    "        return tarea \n",
    "    \n",
    "    def parimeter(self):\n",
    "        tperimeter = 2 * (self.length * self.width)\n",
    "        return tperimeter\n",
    "    \n",
    "myrectangle = Rectangle(6, 12)\n",
    "\n",
    "print(\"Area\", myrectangle.area())\n",
    "print(\"Perimrter\", myrectangle.parimeter())\n",
    "            "
   ]
  },
  {
   "cell_type": "code",
   "execution_count": 4,
   "metadata": {},
   "outputs": [
    {
     "name": "stdout",
     "output_type": "stream",
     "text": [
      "new salary of  sheraz : 550000.0\n"
     ]
    }
   ],
   "source": [
    "# EXAPMLE - Raise in salary\n",
    "\n",
    "class Employee():\n",
    "    def __init__(self, name, position, salary):\n",
    "        self.name = name\n",
    "        self.position = position\n",
    "        self.salary = salary\n",
    "        \n",
    "    def raise_salary(self, percentage):\n",
    "        self.salary *= (1+ percentage /100)\n",
    "        \n",
    "employee = Employee(\"sheraz\", \"Data Scientist\", 500000)\n",
    "employee.raise_salary(10)\n",
    "\n",
    "print(\"new salary of \", employee.name, \":\", employee.salary)\n"
   ]
  },
  {
   "cell_type": "code",
   "execution_count": 6,
   "metadata": {},
   "outputs": [
    {
     "name": "stdout",
     "output_type": "stream",
     "text": [
      "Car: Toyota Corolla, Wheels: 4\n",
      "Car: Honda Civic, Wheels: 4\n"
     ]
    }
   ],
   "source": [
    "# EXERCISE\n",
    "class Car:\n",
    "    wheels = 4\n",
    "    \n",
    "    def __init__(self, brand, model):\n",
    "        self.brand = brand\n",
    "        self.model = model\n",
    "   \n",
    "    def display_info(self):\n",
    "        print(\"Car: \" + self.brand + \" \" + self.model + \", Wheels: \" + str(self.wheels))\n",
    "\n",
    "car1 = Car(\"Toyota\", \"Corolla\")\n",
    "car2 = Car(\"Honda\", \"Civic\")\n",
    "\n",
    "car1.display_info() \n",
    "car2.display_info()\n"
   ]
  },
  {
   "cell_type": "code",
   "execution_count": 9,
   "metadata": {},
   "outputs": [
    {
     "name": "stdout",
     "output_type": "stream",
     "text": [
      "Number of customers served: 0\n",
      "Number of customers served after change: 5\n",
      "Number of customers served after setting new value: 10\n",
      "Number of customers served after increment: 25\n"
     ]
    }
   ],
   "source": [
    "# EXERCISE\n",
    "\n",
    "class Restaurant:\n",
    "    def __init__(self, name, cuisine_type):\n",
    "        self.name = name\n",
    "        self.cuisine_type = cuisine_type\n",
    "        self.number_served = 0  # Default value\n",
    "\n",
    "    def describe_restaurant(self):\n",
    "        print(\"Restaurant Name: \" + self.name)\n",
    "        print(\"Cuisine Type: \" + self.cuisine_type)\n",
    "\n",
    "    def open_restaurant(self):\n",
    "        print(self.name + \" is now open!\")\n",
    "\n",
    "    def set_number_served(self, number):\n",
    "        self.number_served = number\n",
    "\n",
    "    def increment_number_served(self, increment):\n",
    "        self.number_served += increment\n",
    "\n",
    "\n",
    "restaurant = Restaurant(\"The Food Place\", \"Italian\")\n",
    "print(\"Number of customers served:\", restaurant.number_served)\n",
    "\n",
    "restaurant.number_served = 5\n",
    "print(\"Number of customers served after change:\", restaurant.number_served)\n",
    "\n",
    "restaurant.set_number_served(10)\n",
    "print(\"Number of customers served after setting new value:\", restaurant.number_served)\n",
    "\n",
    "restaurant.increment_number_served(15)\n",
    "print(\"Number of customers served after increment:\", restaurant.number_served)\n"
   ]
  },
  {
   "cell_type": "markdown",
   "metadata": {},
   "source": [
    "# 3 - INHERITENCE \n",
    " A class (called the subclass or derived class) to inherit attributes and methods from another class (called the superclass or base class). \n",
    " This helps in reusing code and creating a hierarchical relationship between classes.\n",
    "\n",
    " "
   ]
  },
  {
   "cell_type": "code",
   "execution_count": 14,
   "metadata": {},
   "outputs": [
    {
     "name": "stdout",
     "output_type": "stream",
     "text": [
      "blue\n",
      "78.5\n"
     ]
    }
   ],
   "source": [
    "# EXAMPLE\n",
    "\n",
    "class Shape:\n",
    "  def __init__(self, color):\n",
    "    self.color = color\n",
    "\n",
    "  def area(self):\n",
    "    raise NotImplementedError(\"Subclasses should implement area()\")\n",
    "\n",
    "class Circle(Shape):\n",
    "  def __init__(self, color, radius):\n",
    "    super().__init__(color) \n",
    "    self.radius = radius\n",
    "\n",
    "  def area(self):\n",
    "    return 3.14 * self.radius * self.radius\n",
    "\n",
    "circle = Circle(\"blue\", 5)\n",
    "\n",
    "print(circle.color) \n",
    "print(circle.area())"
   ]
  },
  {
   "cell_type": "code",
   "execution_count": 15,
   "metadata": {},
   "outputs": [
    {
     "name": "stdout",
     "output_type": "stream",
     "text": [
      "The vehicle is moving.\n",
      "The car is accelerating.\n",
      "The electric car is charging.\n"
     ]
    }
   ],
   "source": [
    "# EXAMPLE\n",
    "\n",
    "class Vehicle:\n",
    "  def __init__(self, make, model):\n",
    "    self.make = make\n",
    "    self.model = model\n",
    "\n",
    "  def move(self):\n",
    "    print(\"The vehicle is moving.\")\n",
    "\n",
    "class Car(Vehicle):\n",
    "  def __init__(self, make, model, wheels):\n",
    "    super().__init__(make, model)\n",
    "    self.wheels = wheels\n",
    "\n",
    "  def accelerate(self):\n",
    "    print(\"The car is accelerating.\")\n",
    "\n",
    "class ElectricCar(Car):\n",
    "  def __init__(self, make, model, wheels, battery_type):\n",
    "    super().__init__(make, model, wheels)\n",
    "    self.battery_type = battery_type\n",
    "\n",
    "  def charge(self):\n",
    "    print(\"The electric car is charging.\")\n",
    "\n",
    "electric_car = ElectricCar(\"Tesla\", \"Model S\", 4, \"Lithium Ion\")\n",
    "\n",
    "electric_car.move()       \n",
    "electric_car.accelerate()  \n",
    "electric_car.charge() "
   ]
  },
  {
   "cell_type": "code",
   "execution_count": 19,
   "metadata": {},
   "outputs": [
    {
     "name": "stdout",
     "output_type": "stream",
     "text": [
      "Ice cream flavors available at Cool Cones:\n",
      "- chocolate\n",
      "- strawberry\n",
      "- mint chip\n"
     ]
    }
   ],
   "source": [
    "# EXERCISE\n",
    "\n",
    "class Restaurant:\n",
    "  def __init__(self, restaurant_name, cuisine_type):\n",
    "    self.restaurant_name = restaurant_name\n",
    "    self.cuisine_type = cuisine_type\n",
    "\n",
    "  def describe_restaurant(self):\n",
    "    print(\"Ice cream flavors available at\", self.restaurant_name + \":\")\n",
    "    for flavor in self.flavors:\n",
    "      print(\"-\", flavor)\n",
    "\n",
    "class IceCreamStand(Restaurant):\n",
    "  def __init__(self, restaurant_name, flavors):\n",
    "    super().__init__(restaurant_name, \"ice cream\")\n",
    "    self.flavors = flavors\n",
    "\n",
    "ice_cream_stand = IceCreamStand(\"Cool Cones\", [\"chocolate\", \"strawberry\", \"mint chip\"])\n",
    "ice_cream_stand.describe_restaurant() \n"
   ]
  },
  {
   "cell_type": "code",
   "execution_count": 23,
   "metadata": {},
   "outputs": [
    {
     "name": "stdout",
     "output_type": "stream",
     "text": [
      "This car can go approximately 240 miles on a full charge.\n",
      "The battery has been upgraded to 85 kWh capacity.\n",
      "This car can go approximately 270 miles on a full charge.\n"
     ]
    }
   ],
   "source": [
    "class Car:\n",
    "\n",
    "  def __init__(self, make, model, year):\n",
    "    self.make = make\n",
    "    self.model = model\n",
    "    self.year = year\n",
    "    self.battery = Battery() \n",
    "\n",
    "  def get_descriptive_name(self):\n",
    "    long_name = str(self.year) + \" \" + self.make + \" \" + self.model\n",
    "    return long_name.title()\n",
    "\n",
    "  def describe_battery(self):\n",
    "    print(\"This car is equipped with a\", self.battery.battery_size, \"-kWh battery.\")\n",
    "\n",
    "class Battery:\n",
    "\n",
    "  def __init__(self, battery_size=60):\n",
    "    self.battery_size = battery_size\n",
    "\n",
    "  def get_range(self):\n",
    "    if self.battery_size == 60:\n",
    "      range = 240\n",
    "    elif self.battery_size == 85:\n",
    "      range = 270\n",
    "    else:\n",
    "      range = self.battery_size * 4  \n",
    "    message = \"This car can go approximately \" + str(range) + \" miles on a full charge.\"\n",
    "    print(message)\n",
    "\n",
    "  def upgrade_battery(self):\n",
    "    if self.battery_size != 85:\n",
    "      self.battery_size = 85\n",
    "      print(\"The battery has been upgraded to 85 kWh capacity.\")\n",
    "\n",
    "my_tesla = Car(\"Tesla\", \"Model S\", 2024)\n",
    "\n",
    "my_tesla.battery.get_range()\n",
    "my_tesla.battery.upgrade_battery()\n",
    "my_tesla.battery.get_range() "
   ]
  },
  {
   "cell_type": "markdown",
   "metadata": {},
   "source": [
    "# 3 - ENCAPCULATOIN\n",
    "It focuses on bundling data (attributes) and the methods that operate on that data together within a single unit called a class. It's a way to control access to an object's internal workings and promote data integrity.\n",
    "\n",
    "key aspects\n",
    "- Data Hiding\n",
    "- Public Methods\n",
    "- Data Protection\n"
   ]
  },
  {
   "cell_type": "code",
   "execution_count": 25,
   "metadata": {},
   "outputs": [
    {
     "name": "stdout",
     "output_type": "stream",
     "text": [
      "Deposited 500. New balance is 1500.\n",
      "Withdrew 200. New balance is 1300.\n",
      "Current balance is 1300.\n"
     ]
    }
   ],
   "source": [
    "class BankAccount:\n",
    "    def __init__(self, account_holder, balance=0):\n",
    "        self.account_holder = account_holder\n",
    "        self.__balance = balance\n",
    "\n",
    "    def deposit(self, amount):\n",
    "        if amount > 0:\n",
    "            self.__balance += amount\n",
    "            print(\"Deposited \" + str(amount) + \". New balance is \" + str(self.__balance) + \".\")\n",
    "        else:\n",
    "            print(\"Deposit amount must be positive.\")\n",
    "\n",
    "    def withdraw(self, amount):\n",
    "        if amount > 0 and amount <= self.__balance:\n",
    "            self.__balance -= amount\n",
    "            print(\"Withdrew \" + str(amount) + \". New balance is \" + str(self.__balance) + \".\")\n",
    "        else:\n",
    "            print(\"Invalid withdrawal amount.\")\n",
    "\n",
    "    def get_balance(self):\n",
    "        return self.__balance\n",
    "\n",
    "account = BankAccount(\"Sheraz\", 1000)\n",
    "account.deposit(500)\n",
    "account.withdraw(200)\n",
    "print(\"Current balance is \" + str(account.get_balance()) + \".\")\n"
   ]
  },
  {
   "cell_type": "code",
   "execution_count": 28,
   "metadata": {},
   "outputs": [
    {
     "name": "stdout",
     "output_type": "stream",
     "text": [
      "Salary set to 60000.\n",
      "Employee Name: sherazbintahir\n",
      "Employee Salary: 60000\n",
      "sheraz's current salary is 60000.\n"
     ]
    }
   ],
   "source": [
    "# EXAMPLE\n",
    "\n",
    "class Employee:\n",
    "    def __init__(self, name, salary):\n",
    "        self.name = name\n",
    "        self.__salary = salary\n",
    "\n",
    "    def set_salary(self, salary):\n",
    "        if salary > 0:\n",
    "            self.__salary = salary\n",
    "            print(\"Salary set to \" + str(self.__salary) + \".\")\n",
    "        else:\n",
    "            print(\"Salary must be positive.\")\n",
    "\n",
    "    def get_salary(self):\n",
    "        return self.__salary\n",
    "\n",
    "    def display_employee_info(self):\n",
    "        print(\"Employee Name: \" + self.name)\n",
    "        print(\"Employee Salary: \" + str(self.get_salary()))\n",
    "\n",
    "employee = Employee(\"sherazbintahir\", 50000)\n",
    "employee.set_salary(60000)\n",
    "employee.display_employee_info()\n",
    "print(\"sheraz's current salary is \" + str(employee.get_salary()) + \".\")\n"
   ]
  },
  {
   "cell_type": "code",
   "execution_count": 33,
   "metadata": {},
   "outputs": [
    {
     "name": "stdout",
     "output_type": "stream",
     "text": [
      "Title: Harry Potter\n",
      "Author: J.K. Rowling\n",
      "Pages: 400\n",
      "Title: The Hobbit\n",
      "Author: J.R.R. Tolkien\n",
      "Pages: 300\n"
     ]
    }
   ],
   "source": [
    "# EXAMPLE\n",
    "\n",
    "class Book:\n",
    "  def __init__(self, title, author, pages):\n",
    "    self.title = title\n",
    "    self.author = author\n",
    "    self.pages = pages\n",
    "\n",
    "  def display_info(self):\n",
    "    print(\"Title:\", self.title)\n",
    "    print(\"Author:\", self.author)\n",
    "    print(\"Pages:\", self.pages)\n",
    "\n",
    "book1 = Book(\"Harry Potter\", \"J.K. Rowling\", 400)\n",
    "book2 = Book(\"The Hobbit\", \"J.R.R. Tolkien\", 300)\n",
    "\n",
    "book1.display_info()\n",
    "book2.display_info()\n"
   ]
  }
 ],
 "metadata": {
  "kernelspec": {
   "display_name": "Python 3",
   "language": "python",
   "name": "python3"
  },
  "language_info": {
   "codemirror_mode": {
    "name": "ipython",
    "version": 3
   },
   "file_extension": ".py",
   "mimetype": "text/x-python",
   "name": "python",
   "nbconvert_exporter": "python",
   "pygments_lexer": "ipython3",
   "version": "3.12.2"
  }
 },
 "nbformat": 4,
 "nbformat_minor": 2
}
