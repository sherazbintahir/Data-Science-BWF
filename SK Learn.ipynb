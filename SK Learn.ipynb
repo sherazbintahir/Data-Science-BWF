{
 "cells": [
  {
   "cell_type": "markdown",
   "metadata": {},
   "source": [
    "# __SCIKIT-LEARN (SKLEARN) - A Machine Learning Libaray__\n",
    "\n",
    "- Supervised ML Algorithms\n",
    "- Unsupervised ML Algorithms"
   ]
  },
  {
   "cell_type": "markdown",
   "metadata": {},
   "source": [
    "__POPULAR ALGORITHMS__\n",
    "\n",
    "__FOR SUPERVISED__\n",
    "- Decision Tree\n",
    "- KNN\n",
    "- Support Vactor Machine\n",
    "- Random Forest Algorithm\n",
    "\n",
    "__FOR UNSUPERVISED__\n",
    "- Clustring\n",
    "- Biclustring\n",
    "- Gaussian Mixture Model \n",
    "- Neural Networks\n",
    "- Density Estimation\n",
    "\n"
   ]
  },
  {
   "cell_type": "markdown",
   "metadata": {},
   "source": [
    "__SUB MODELS fOR ALGORITHMS__\n",
    "- Classification: \n",
    "    1. SVM\n",
    "    2. Nearest neighbors\n",
    "    3. Random forest\n",
    "    4. Logistic regression\n",
    "- Regression:\n",
    "    1. Lasso\n",
    "    2. Ridge regression\n",
    "- Clustering:\n",
    "    1. k-means\n",
    "    2. spectral clustering\n",
    "- Dimensionality reduction: \n",
    "    1. PCA \n",
    "    2. Feature selection\n",
    "    3. Matrix factorization\n",
    "- Model selection: \n",
    "    1. Grid search,   \n",
    "    2. Cross-validation\n",
    "    3. Metrics\n",
    "- Preprocessing: \n",
    "    1. Feature extraction\n",
    "    2. Normalization"
   ]
  },
  {
   "cell_type": "markdown",
   "metadata": {},
   "source": [
    "__SK LEARN includes__\n",
    "\n",
    "- __Classification:__ Predicting categorical labels for data points (e.g., spam or not spam).\n",
    "- __Regression:__ Modeling continuous relationships between features and a target variable (e.g., predicting house prices based on size and location).\n",
    "- __Clustering:__ Grouping similar data points together (e.g., segmenting customers based on purchase history).\n",
    "- __Dimensionality reduction:__ Reducing the number of features in your data while preserving essential information.\n",
    "- __Model selection:__ Choosing the best machine learning model for your problem.\n",
    "- __Preprocessing:__ Preparing your data for machine learning algorithms (e.g., handling missing values, scaling features).\n",
    "- __Model evaluation:__ Assessing the performance of your machine learning models."
   ]
  },
  {
   "cell_type": "markdown",
   "metadata": {},
   "source": [
    "__THREE MAIN PARTS OF ML ALOGOS__\n",
    "- Representation - Configuring Data.\n",
    "- Evaluation -  Validity.\n",
    "- Optimization - Process of tuning to increase Accuracy."
   ]
  },
  {
   "cell_type": "markdown",
   "metadata": {},
   "source": [
    "__INSTALLATION__\n",
    "- pip install scikit-learn"
   ]
  }
 ],
 "metadata": {
  "kernelspec": {
   "display_name": "Python 3",
   "language": "python",
   "name": "python3"
  },
  "language_info": {
   "codemirror_mode": {
    "name": "ipython",
    "version": 3
   },
   "file_extension": ".py",
   "mimetype": "text/x-python",
   "name": "python",
   "nbconvert_exporter": "python",
   "pygments_lexer": "ipython3",
   "version": "3.12.2"
  }
 },
 "nbformat": 4,
 "nbformat_minor": 2
}
