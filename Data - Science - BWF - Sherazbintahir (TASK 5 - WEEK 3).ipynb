{
 "cells": [
  {
   "cell_type": "markdown",
   "metadata": {},
   "source": [
    "# TASK 5 (WEEK 3)\n",
    "\n",
    "# *PYTHON DATA STRUCTURES*"
   ]
  },
  {
   "cell_type": "markdown",
   "metadata": {},
   "source": [
    "Python’s data structures are simple but powerful. Mastering their use is a critical part of becoming a proficient Python programmer.\n",
    "\n",
    "In python data structure we have \n",
    "- TUPLES\n",
    "- LISTS \n",
    "- DICTIONARIES \n",
    "- SETS "
   ]
  },
  {
   "cell_type": "markdown",
   "metadata": {},
   "source": [
    "# *overview*\n",
    "\n",
    "Tuples:\n",
    "- Ordered collections of items, immutable (unchangeable after creation).\n",
    "- Enclosed in parentheses ().\n",
    "- Example: my_tuple = (10, \"apple\", True)\n",
    "- Used for representing fixed data structures, like coordinates or database records.\n",
    "\n",
    "Lists:\n",
    "- Ordered collections of items, mutable (changeable after creation).\n",
    "- Enclosed in square brackets [].\n",
    "- Example: my_list = [1, \"hello\", 3.14]\n",
    "- Used for storing sequences of data, like shopping lists or arrays of numbers.\n",
    "\n",
    "Dictionaries:\n",
    "- Unordered collections of key-value pairs.\n",
    "- Enclosed in curly braces {}.\n",
    "- Example: my_dict = {\"name\": \"Alice\", \"age\": 30}\n",
    "- Used for storing and retrieving data based on keys, like phonebooks or product inventories.\n",
    "    \n",
    "Sets:\n",
    "- Unordered collections of unique elements.\n",
    "- Created using set() or curly braces {}.\n",
    "- Example: my_set = {1, 2, 2, 3} (duplicates are automatically removed)\n",
    "- Used for removing duplicates, performing set operations (union, intersection, difference), and testing for membership."
   ]
  },
  {
   "cell_type": "markdown",
   "metadata": {},
   "source": [
    "# 1 - *TUPLES*\n"
   ]
  },
  {
   "cell_type": "code",
   "execution_count": 3,
   "metadata": {},
   "outputs": [
    {
     "name": "stdout",
     "output_type": "stream",
     "text": [
      "sheraz\n",
      "(1, 9.5)\n",
      "(1, 9.5, True)\n",
      "('sheraz', 1, 9.5, True, 'saif', 2, False, 8.9)\n",
      "('saif', 2, False, 8.9, 'saif', 2, False, 8.9)\n",
      "76\n",
      "9\n"
     ]
    }
   ],
   "source": [
    "\n",
    "\n",
    "tup1= ('sheraz',1,9.5,True)\n",
    "print(tup1[0])\n",
    "print(tup1[1:3])\n",
    "print(tup1[1:])\n",
    "\n",
    "tup2=('saif',2,False,8.9)\n",
    "\n",
    "print(tup1+tup2)    \n",
    "print(tup2*2)\n",
    "\n",
    "tup3= (23,76,43,9,12,34,64)\n",
    "\n",
    "print(max(tup3))\n",
    "print(min(tup3))"
   ]
  },
  {
   "cell_type": "markdown",
   "metadata": {},
   "source": [
    "# 2 - *LISTS*"
   ]
  },
  {
   "cell_type": "code",
   "execution_count": 10,
   "metadata": {},
   "outputs": [
    {
     "name": "stdout",
     "output_type": "stream",
     "text": [
      "[1, 2, 3, 5, 3, 43, 'sheraz']\n"
     ]
    }
   ],
   "source": [
    "list1=[1,2,3,5,3,43,\"sheraz\"]\n",
    "print(list1)\n"
   ]
  },
  {
   "cell_type": "code",
   "execution_count": 15,
   "metadata": {},
   "outputs": [
    {
     "name": "stdout",
     "output_type": "stream",
     "text": [
      "['saif', 'asim', ' tipu', 'SE']\n"
     ]
    }
   ],
   "source": [
    "list2=[ 'saif' ,'asim',' tipu', 'SE']\n",
    "print(list2)\n"
   ]
  },
  {
   "cell_type": "code",
   "execution_count": 16,
   "metadata": {},
   "outputs": [
    {
     "name": "stdout",
     "output_type": "stream",
     "text": [
      "[1, 6, 223, 67, 3, 9, 3, 77, 3, 0]\n"
     ]
    }
   ],
   "source": [
    "list3=[1,6,223,67,3,9,3,77,3,0]\n",
    "print(list3)"
   ]
  },
  {
   "cell_type": "code",
   "execution_count": 14,
   "metadata": {},
   "outputs": [
    {
     "name": "stdout",
     "output_type": "stream",
     "text": [
      "[1, 2, 3, 5, 3, 43, 9, 'sheraz', 'PAKI', 'saif', 'asim', ' tipu', 'SE']\n",
      "[1, 2, 3, 5, 3, 43, 9, 'sheraz', 'PAKI', 1, 2, 3, 5, 3, 43, 9, 'sheraz', 'PAKI']\n",
      "[1, 2, 3, 5, 3, 43, 9, 'sheraz', 'PAKI', 'PAKI']\n",
      "[1, 2, 3, 5, 3, 43, 9, 9, 'sheraz', 'PAKI', 'PAKI']\n",
      "[1, 2, 3, 3, 43, 9, 9, 'sheraz', 'PAKI', 'PAKI']\n",
      "[1, 2, 3, 3, 43, 9, 9, 'sheraz', 'PAKI']\n"
     ]
    }
   ],
   "source": [
    "#performing some other Method functions\n",
    "\n",
    "print(list1+list2)\n",
    "print(list1*2)\n",
    "\n",
    "list1.append('PAKI')\n",
    "print(list1)\n",
    "\n",
    "list1.insert(6,9)\n",
    "print(list1)\n",
    "\n",
    "list1.pop(3)\n",
    "print(list1)\n",
    "\n",
    "list1.remove('PAKI')\n",
    "print(list1)"
   ]
  },
  {
   "cell_type": "markdown",
   "metadata": {},
   "source": [
    "# 3 - *DICTIONARIES*"
   ]
  },
  {
   "cell_type": "code",
   "execution_count": 20,
   "metadata": {},
   "outputs": [
    {
     "name": "stdout",
     "output_type": "stream",
     "text": [
      "{'samosa': 30, 'pakora': 20, 'raita': 15, 'salad': 25}\n",
      "{'samosa': 30, 'pakora': 20, 'raita': 15, 'salad': 25, 'tikki': 50}\n"
     ]
    }
   ],
   "source": [
    "d1 = {'samosa':30,'pakora':20,'raita':15,'salad':25}\n",
    "print(d1)\n",
    "\n",
    "d1['tikki']=50\n",
    "print(d1)\n",
    "\n"
   ]
  },
  {
   "cell_type": "code",
   "execution_count": 19,
   "metadata": {},
   "outputs": [
    {
     "name": "stdout",
     "output_type": "stream",
     "text": [
      "{'dates': 100, 'chocolates': 150}\n",
      "{'samosa': 30, 'pakora': 20, 'raita': 15, 'salad': 25, 'tikki': 50, 'dates': 100, 'chocolates': 150}\n"
     ]
    }
   ],
   "source": [
    "d2= {'dates':100,'chocolates':150}\n",
    "print(d2)\n",
    "\n",
    "d1.update(d2)\n",
    "print(d1)"
   ]
  },
  {
   "cell_type": "code",
   "execution_count": 18,
   "metadata": {},
   "outputs": [
    {
     "name": "stdout",
     "output_type": "stream",
     "text": [
      "dict_keys(['samosa', 'pakora', 'raita', 'salad', 'tikki', 'dates', 'chocolates'])\n",
      "dict_values([30, 20, 15, 25, 50, 100, 150])\n"
     ]
    }
   ],
   "source": [
    "d1.keys()\n",
    "print(d1.keys())\n",
    "\n",
    "d1.values()\n",
    "print(d1.values())"
   ]
  },
  {
   "cell_type": "code",
   "execution_count": 25,
   "metadata": {},
   "outputs": [
    {
     "name": "stdout",
     "output_type": "stream",
     "text": [
      "{'sheraz': '123-456-7890', 'baig': '987-654-3210'}\n"
     ]
    }
   ],
   "source": [
    "phonebook = {\"sheraz\": \"123-456-7890\", \"baig\": \"987-654-3210\"}\n",
    "print(phonebook)"
   ]
  },
  {
   "cell_type": "markdown",
   "metadata": {},
   "source": [
    "# 4 - *SETS*"
   ]
  },
  {
   "cell_type": "code",
   "execution_count": 27,
   "metadata": {},
   "outputs": [
    {
     "name": "stdout",
     "output_type": "stream",
     "text": [
      "<class 'set'>\n",
      "{2, 2.5, 4, 7.635, 7, 'saif', 'sheraz'}\n",
      "{2, 2.5, 4, 7.635, 'ali', 7, 'saif', 'sheraz'}\n",
      "{2, 2.5, 4, 'ali', 7, 'saif', 'sheraz'}\n"
     ]
    }
   ],
   "source": [
    "s1={4,2,7,4,'sheraz', 'saif', 2.5 , 7.635}\n",
    "print(type(s1))\n",
    "print(s1)\n",
    "\n",
    "s1.add('ali')\n",
    "print(s1)\n",
    "\n",
    "s1.remove(7.635)\n",
    "print(s1)"
   ]
  },
  {
   "cell_type": "code",
   "execution_count": 29,
   "metadata": {},
   "outputs": [
    {
     "name": "stdout",
     "output_type": "stream",
     "text": [
      "{'banana', 'cherry', 'apple'}\n",
      "{'i', 'o', 'e', 'u', 'a'}\n"
     ]
    }
   ],
   "source": [
    "fruits = {\"apple\", \"banana\", \"cherry\", \"apple\"}\n",
    "print(fruits)\n",
    "\n",
    "vowels = {\"a\", \"e\", \"i\", \"o\", \"u\"}\n",
    "print(vowels)\n"
   ]
  }
 ],
 "metadata": {
  "kernelspec": {
   "display_name": "Python 3",
   "language": "python",
   "name": "python3"
  },
  "language_info": {
   "codemirror_mode": {
    "name": "ipython",
    "version": 3
   },
   "file_extension": ".py",
   "mimetype": "text/x-python",
   "name": "python",
   "nbconvert_exporter": "python",
   "pygments_lexer": "ipython3",
   "version": "3.12.2"
  }
 },
 "nbformat": 4,
 "nbformat_minor": 2
}
